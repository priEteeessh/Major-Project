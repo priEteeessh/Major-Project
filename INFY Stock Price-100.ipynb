{
 "cells": [
  {
   "cell_type": "code",
   "execution_count": 1,
   "id": "849060d1",
   "metadata": {},
   "outputs": [
    {
     "name": "stdout",
     "output_type": "stream",
     "text": [
      "Enter a stock Name: AMZN\n",
      "[*********************100%***********************]  1 of 1 completed\n"
     ]
    }
   ],
   "source": [
    "import yfinance as yf\n",
    "import pandas as pd\n",
    "from datetime import datetime\n",
    "\n",
    "stock = input(\"Enter a stock Name: \")\n",
    "\n",
    "start_date = datetime(2018, 1, 1)\n",
    "end_date = datetime.now()\n",
    "#end_date = datetime(2023, 11, 30)\n",
    "\n",
    "df = yf.download(stock, start=start_date, end=end_date)"
   ]
  },
  {
   "cell_type": "code",
   "execution_count": 2,
   "id": "f6978955",
   "metadata": {},
   "outputs": [
    {
     "data": {
      "text/html": [
       "<div>\n",
       "<style scoped>\n",
       "    .dataframe tbody tr th:only-of-type {\n",
       "        vertical-align: middle;\n",
       "    }\n",
       "\n",
       "    .dataframe tbody tr th {\n",
       "        vertical-align: top;\n",
       "    }\n",
       "\n",
       "    .dataframe thead th {\n",
       "        text-align: right;\n",
       "    }\n",
       "</style>\n",
       "<table border=\"1\" class=\"dataframe\">\n",
       "  <thead>\n",
       "    <tr style=\"text-align: right;\">\n",
       "      <th></th>\n",
       "      <th>Open</th>\n",
       "      <th>High</th>\n",
       "      <th>Low</th>\n",
       "      <th>Close</th>\n",
       "      <th>Adj Close</th>\n",
       "      <th>Volume</th>\n",
       "    </tr>\n",
       "    <tr>\n",
       "      <th>Date</th>\n",
       "      <th></th>\n",
       "      <th></th>\n",
       "      <th></th>\n",
       "      <th></th>\n",
       "      <th></th>\n",
       "      <th></th>\n",
       "    </tr>\n",
       "  </thead>\n",
       "  <tbody>\n",
       "    <tr>\n",
       "      <th>2018-01-02</th>\n",
       "      <td>58.599998</td>\n",
       "      <td>59.500000</td>\n",
       "      <td>58.525501</td>\n",
       "      <td>59.450500</td>\n",
       "      <td>59.450500</td>\n",
       "      <td>53890000</td>\n",
       "    </tr>\n",
       "    <tr>\n",
       "      <th>2018-01-03</th>\n",
       "      <td>59.415001</td>\n",
       "      <td>60.274502</td>\n",
       "      <td>59.415001</td>\n",
       "      <td>60.209999</td>\n",
       "      <td>60.209999</td>\n",
       "      <td>62176000</td>\n",
       "    </tr>\n",
       "    <tr>\n",
       "      <th>2018-01-04</th>\n",
       "      <td>60.250000</td>\n",
       "      <td>60.793499</td>\n",
       "      <td>60.233002</td>\n",
       "      <td>60.479500</td>\n",
       "      <td>60.479500</td>\n",
       "      <td>60442000</td>\n",
       "    </tr>\n",
       "    <tr>\n",
       "      <th>2018-01-05</th>\n",
       "      <td>60.875500</td>\n",
       "      <td>61.457001</td>\n",
       "      <td>60.500000</td>\n",
       "      <td>61.457001</td>\n",
       "      <td>61.457001</td>\n",
       "      <td>70894000</td>\n",
       "    </tr>\n",
       "    <tr>\n",
       "      <th>2018-01-08</th>\n",
       "      <td>61.799999</td>\n",
       "      <td>62.653999</td>\n",
       "      <td>61.601501</td>\n",
       "      <td>62.343498</td>\n",
       "      <td>62.343498</td>\n",
       "      <td>85590000</td>\n",
       "    </tr>\n",
       "  </tbody>\n",
       "</table>\n",
       "</div>"
      ],
      "text/plain": [
       "                 Open       High        Low      Close  Adj Close    Volume\n",
       "Date                                                                       \n",
       "2018-01-02  58.599998  59.500000  58.525501  59.450500  59.450500  53890000\n",
       "2018-01-03  59.415001  60.274502  59.415001  60.209999  60.209999  62176000\n",
       "2018-01-04  60.250000  60.793499  60.233002  60.479500  60.479500  60442000\n",
       "2018-01-05  60.875500  61.457001  60.500000  61.457001  61.457001  70894000\n",
       "2018-01-08  61.799999  62.653999  61.601501  62.343498  62.343498  85590000"
      ]
     },
     "execution_count": 2,
     "metadata": {},
     "output_type": "execute_result"
    }
   ],
   "source": [
    "df.head()"
   ]
  },
  {
   "cell_type": "code",
   "execution_count": 3,
   "id": "b52f853e",
   "metadata": {},
   "outputs": [
    {
     "data": {
      "text/html": [
       "<div>\n",
       "<style scoped>\n",
       "    .dataframe tbody tr th:only-of-type {\n",
       "        vertical-align: middle;\n",
       "    }\n",
       "\n",
       "    .dataframe tbody tr th {\n",
       "        vertical-align: top;\n",
       "    }\n",
       "\n",
       "    .dataframe thead th {\n",
       "        text-align: right;\n",
       "    }\n",
       "</style>\n",
       "<table border=\"1\" class=\"dataframe\">\n",
       "  <thead>\n",
       "    <tr style=\"text-align: right;\">\n",
       "      <th></th>\n",
       "      <th>Open</th>\n",
       "      <th>High</th>\n",
       "      <th>Low</th>\n",
       "      <th>Close</th>\n",
       "      <th>Adj Close</th>\n",
       "      <th>Volume</th>\n",
       "    </tr>\n",
       "    <tr>\n",
       "      <th>Date</th>\n",
       "      <th></th>\n",
       "      <th></th>\n",
       "      <th></th>\n",
       "      <th></th>\n",
       "      <th></th>\n",
       "      <th></th>\n",
       "    </tr>\n",
       "  </thead>\n",
       "  <tbody>\n",
       "    <tr>\n",
       "      <th>2023-12-12</th>\n",
       "      <td>145.520004</td>\n",
       "      <td>147.500000</td>\n",
       "      <td>145.300003</td>\n",
       "      <td>147.479996</td>\n",
       "      <td>147.479996</td>\n",
       "      <td>44944300</td>\n",
       "    </tr>\n",
       "    <tr>\n",
       "      <th>2023-12-13</th>\n",
       "      <td>148.119995</td>\n",
       "      <td>149.460007</td>\n",
       "      <td>146.820007</td>\n",
       "      <td>148.839996</td>\n",
       "      <td>148.839996</td>\n",
       "      <td>52766200</td>\n",
       "    </tr>\n",
       "    <tr>\n",
       "      <th>2023-12-14</th>\n",
       "      <td>149.929993</td>\n",
       "      <td>150.539993</td>\n",
       "      <td>145.520004</td>\n",
       "      <td>147.419998</td>\n",
       "      <td>147.419998</td>\n",
       "      <td>58400800</td>\n",
       "    </tr>\n",
       "    <tr>\n",
       "      <th>2023-12-15</th>\n",
       "      <td>148.380005</td>\n",
       "      <td>150.570007</td>\n",
       "      <td>147.880005</td>\n",
       "      <td>149.970001</td>\n",
       "      <td>149.970001</td>\n",
       "      <td>110039100</td>\n",
       "    </tr>\n",
       "    <tr>\n",
       "      <th>2023-12-18</th>\n",
       "      <td>150.559998</td>\n",
       "      <td>154.850006</td>\n",
       "      <td>150.050003</td>\n",
       "      <td>154.070007</td>\n",
       "      <td>154.070007</td>\n",
       "      <td>62466100</td>\n",
       "    </tr>\n",
       "  </tbody>\n",
       "</table>\n",
       "</div>"
      ],
      "text/plain": [
       "                  Open        High         Low       Close   Adj Close  \\\n",
       "Date                                                                     \n",
       "2023-12-12  145.520004  147.500000  145.300003  147.479996  147.479996   \n",
       "2023-12-13  148.119995  149.460007  146.820007  148.839996  148.839996   \n",
       "2023-12-14  149.929993  150.539993  145.520004  147.419998  147.419998   \n",
       "2023-12-15  148.380005  150.570007  147.880005  149.970001  149.970001   \n",
       "2023-12-18  150.559998  154.850006  150.050003  154.070007  154.070007   \n",
       "\n",
       "               Volume  \n",
       "Date                   \n",
       "2023-12-12   44944300  \n",
       "2023-12-13   52766200  \n",
       "2023-12-14   58400800  \n",
       "2023-12-15  110039100  \n",
       "2023-12-18   62466100  "
      ]
     },
     "execution_count": 3,
     "metadata": {},
     "output_type": "execute_result"
    }
   ],
   "source": [
    "df.tail()"
   ]
  },
  {
   "cell_type": "code",
   "execution_count": 4,
   "id": "9a544e9a",
   "metadata": {},
   "outputs": [],
   "source": [
    "df1=df.reset_index()['Close']"
   ]
  },
  {
   "cell_type": "code",
   "execution_count": 5,
   "id": "f1c8a981",
   "metadata": {},
   "outputs": [
    {
     "data": {
      "text/plain": [
       "[<matplotlib.lines.Line2D at 0x16cd0b62820>]"
      ]
     },
     "execution_count": 5,
     "metadata": {},
     "output_type": "execute_result"
    },
    {
     "data": {
      "image/png": "[encoded data removed]",
      "text/plain": [
       "<Figure size 432x288 with 1 Axes>"
      ]
     },
     "metadata": {
      "needs_background": "light"
     },
     "output_type": "display_data"
    }
   ],
   "source": [
    "import matplotlib.pyplot as plt\n",
    "plt.plot(df1)"
   ]
  },
  {
   "cell_type": "code",
   "execution_count": 6,
   "id": "6422e064",
   "metadata": {},
   "outputs": [
    {
     "data": {
      "text/plain": [
       "0        8.145000\n",
       "1        8.075000\n",
       "2        8.025000\n",
       "3        8.175000\n",
       "4        8.240000\n",
       "          ...    \n",
       "1496    17.549999\n",
       "1497    17.469999\n",
       "1498    18.370001\n",
       "1499    18.670000\n",
       "1500    18.799999\n",
       "Name: Close, Length: 1501, dtype: float64"
      ]
     },
     "execution_count": 6,
     "metadata": {},
     "output_type": "execute_result"
    }
   ],
   "source": [
    "df1"
   ]
  },
  {
   "cell_type": "code",
   "execution_count": 7,
   "id": "85264b1e",
   "metadata": {},
   "outputs": [],
   "source": [
    "import numpy as np\n",
    "from sklearn.preprocessing import MinMaxScaler\n",
    "scaler=MinMaxScaler(feature_range=(0,1))      #here we transform the scaler value into 0,1\n",
    "df1=scaler.fit_transform(np.array(df1).reshape(-1,1))"
   ]
  },
  {
   "cell_type": "code",
   "execution_count": 8,
   "id": "582ca75f",
   "metadata": {},
   "outputs": [
    {
     "name": "stdout",
     "output_type": "stream",
     "text": [
      "[[0.06256492]\n",
      " [0.05893041]\n",
      " [0.05633435]\n",
      " ...\n",
      " [0.59345796]\n",
      " [0.60903425]\n",
      " [0.61578394]]\n"
     ]
    }
   ],
   "source": [
    "print(df1)"
   ]
  },
  {
   "cell_type": "code",
   "execution_count": 9,
   "id": "641ac500",
   "metadata": {},
   "outputs": [],
   "source": [
    "##splitting dataset into train and test split\n",
    "#In timeseries data , next data is always depend on previous data\n",
    "training_size=int(len(df1)*0.65)\n",
    "test_size=len(df1)-training_size\n",
    "train_data,test_data=df1[0:training_size,:],df1[training_size:len(df1),:1]"
   ]
  },
  {
   "cell_type": "code",
   "execution_count": 10,
   "id": "ee4fb3ba",
   "metadata": {},
   "outputs": [
    {
     "data": {
      "text/plain": [
       "(975, 526)"
      ]
     },
     "execution_count": 10,
     "metadata": {},
     "output_type": "execute_result"
    }
   ],
   "source": [
    "training_size,test_size"
   ]
  },
  {
   "cell_type": "code",
   "execution_count": 11,
   "id": "5e7fc9cf",
   "metadata": {},
   "outputs": [],
   "source": [
    "import numpy\n",
    "# convert an array of values into a dataset matrix\n",
    "#timestep value show the output is depend how many independent fearure ,\n",
    "#using this we convert training data into independent and dependent feature\n",
    "def create_dataset(dataset, time_step=1):\n",
    "\tdataX, dataY = [], []\n",
    "\tfor i in range(len(dataset)-time_step-1):\n",
    "\t\ta = dataset[i:(i+time_step), 0]   ###i=0, 0,1,2,3-----99   100 \n",
    "\t\tdataX.append(a)\n",
    "\t\tdataY.append(dataset[i + time_step, 0])\n",
    "\treturn numpy.array(dataX), numpy.array(dataY)"
   ]
  },
  {
   "cell_type": "code",
   "execution_count": 12,
   "id": "d9cba37a",
   "metadata": {},
   "outputs": [],
   "source": [
    "time_step = 100\n",
    "X_train, y_train = create_dataset(train_data, time_step)\n",
    "X_test, ytest = create_dataset(test_data, time_step)"
   ]
  },
  {
   "cell_type": "code",
   "execution_count": 13,
   "id": "8802bfae",
   "metadata": {},
   "outputs": [
    {
     "name": "stdout",
     "output_type": "stream",
     "text": [
      "(874, 100)\n",
      "(874,)\n"
     ]
    },
    {
     "data": {
      "text/plain": [
       "(None, None)"
      ]
     },
     "execution_count": 13,
     "metadata": {},
     "output_type": "execute_result"
    }
   ],
   "source": [
    "print(X_train.shape), print(y_train.shape)"
   ]
  },
  {
   "cell_type": "code",
   "execution_count": 14,
   "id": "dfce7c79",
   "metadata": {},
   "outputs": [
    {
     "name": "stdout",
     "output_type": "stream",
     "text": [
      "(425, 100)\n",
      "(425,)\n"
     ]
    },
    {
     "data": {
      "text/plain": [
       "(None, None)"
      ]
     },
     "execution_count": 14,
     "metadata": {},
     "output_type": "execute_result"
    }
   ],
   "source": [
    "print(X_test.shape), print(ytest.shape)"
   ]
  },
  {
   "cell_type": "code",
   "execution_count": 15,
   "id": "96ff8c3a",
   "metadata": {},
   "outputs": [],
   "source": [
    "# reshape input to be [samples, time steps, features] which is required for LSTM\n",
    "X_train =X_train.reshape(X_train.shape[0],X_train.shape[1] , 1)\n",
    "X_test = X_test.reshape(X_test.shape[0],X_test.shape[1] , 1)"
   ]
  },
  {
   "cell_type": "code",
   "execution_count": 16,
   "id": "5a3513c4",
   "metadata": {},
   "outputs": [],
   "source": [
    "### Create the Stacked LSTM model\n",
    "from tensorflow.keras.models import Sequential\n",
    "from tensorflow.keras.layers import Dense\n",
    "from tensorflow.keras.layers import LSTM"
   ]
  },
  {
   "cell_type": "code",
   "execution_count": 17,
   "id": "1d3375dc",
   "metadata": {},
   "outputs": [],
   "source": [
    "model=Sequential()\n",
    "model.add(LSTM(50,return_sequences=True,input_shape=(100,1)))  #input layer \n",
    "model.add(LSTM(50,return_sequences=True))                    \n",
    "model.add(LSTM(50))\n",
    "model.add(Dense(1))                                            #output layer\n",
    "model.compile(loss='mean_squared_error',optimizer='adam')"
   ]
  },
  {
   "cell_type": "code",
   "execution_count": 18,
   "id": "41b1d240",
   "metadata": {},
   "outputs": [
    {
     "name": "stdout",
     "output_type": "stream",
     "text": [
      "Epoch 1/100\n",
      "14/14 [==============================] - 25s 645ms/step - loss: 0.0406 - val_loss: 0.0205\n",
      "Epoch 2/100\n",
      "14/14 [==============================] - 5s 364ms/step - loss: 0.0082 - val_loss: 0.0068\n",
      "Epoch 3/100\n",
      "14/14 [==============================] - 5s 355ms/step - loss: 0.0022 - val_loss: 0.0076\n",
      "Epoch 4/100\n",
      "14/14 [==============================] - 5s 343ms/step - loss: 0.0015 - val_loss: 0.0041\n",
      "Epoch 5/100\n",
      "14/14 [==============================] - 5s 357ms/step - loss: 0.0012 - val_loss: 0.0035\n",
      "Epoch 6/100\n",
      "14/14 [==============================] - 5s 361ms/step - loss: 0.0011 - val_loss: 0.0033\n",
      "Epoch 7/100\n",
      "14/14 [==============================] - 5s 379ms/step - loss: 0.0011 - val_loss: 0.0036\n",
      "Epoch 8/100\n",
      "14/14 [==============================] - 5s 376ms/step - loss: 0.0011 - val_loss: 0.0038\n",
      "Epoch 9/100\n",
      "14/14 [==============================] - 5s 389ms/step - loss: 0.0011 - val_loss: 0.0030\n",
      "Epoch 10/100\n",
      "14/14 [==============================] - 5s 337ms/step - loss: 0.0011 - val_loss: 0.0030\n",
      "Epoch 11/100\n",
      "14/14 [==============================] - 4s 295ms/step - loss: 0.0010 - val_loss: 0.0028\n",
      "Epoch 12/100\n",
      "14/14 [==============================] - 4s 287ms/step - loss: 0.0010 - val_loss: 0.0025\n",
      "Epoch 13/100\n",
      "14/14 [==============================] - 5s 366ms/step - loss: 0.0010 - val_loss: 0.0028\n",
      "Epoch 14/100\n",
      "14/14 [==============================] - 5s 338ms/step - loss: 9.7791e-04 - val_loss: 0.0023\n",
      "Epoch 15/100\n",
      "14/14 [==============================] - 5s 329ms/step - loss: 9.5728e-04 - val_loss: 0.0018\n",
      "Epoch 16/100\n",
      "14/14 [==============================] - 5s 334ms/step - loss: 9.2072e-04 - val_loss: 0.0017\n",
      "Epoch 17/100\n",
      "14/14 [==============================] - 5s 338ms/step - loss: 9.2570e-04 - val_loss: 0.0018\n",
      "Epoch 18/100\n",
      "14/14 [==============================] - 5s 363ms/step - loss: 8.7270e-04 - val_loss: 0.0019\n",
      "Epoch 19/100\n",
      "14/14 [==============================] - 5s 364ms/step - loss: 8.6923e-04 - val_loss: 0.0022\n",
      "Epoch 20/100\n",
      "14/14 [==============================] - 5s 365ms/step - loss: 8.4521e-04 - val_loss: 0.0017\n",
      "Epoch 21/100\n",
      "14/14 [==============================] - 5s 361ms/step - loss: 7.9856e-04 - val_loss: 0.0015\n",
      "Epoch 22/100\n",
      "14/14 [==============================] - 5s 362ms/step - loss: 7.8852e-04 - val_loss: 0.0013\n",
      "Epoch 23/100\n",
      "14/14 [==============================] - 5s 356ms/step - loss: 7.8424e-04 - val_loss: 0.0018\n",
      "Epoch 24/100\n",
      "14/14 [==============================] - 5s 348ms/step - loss: 7.7474e-04 - val_loss: 0.0013\n",
      "Epoch 25/100\n",
      "14/14 [==============================] - 5s 351ms/step - loss: 8.7081e-04 - val_loss: 0.0013\n",
      "Epoch 26/100\n",
      "14/14 [==============================] - 5s 355ms/step - loss: 7.8677e-04 - val_loss: 0.0014\n",
      "Epoch 27/100\n",
      "14/14 [==============================] - 5s 337ms/step - loss: 7.2288e-04 - val_loss: 0.0016\n",
      "Epoch 28/100\n",
      "14/14 [==============================] - 4s 295ms/step - loss: 7.0420e-04 - val_loss: 0.0016\n",
      "Epoch 29/100\n",
      "14/14 [==============================] - 5s 351ms/step - loss: 6.9739e-04 - val_loss: 0.0012\n",
      "Epoch 30/100\n",
      "14/14 [==============================] - 5s 357ms/step - loss: 7.1570e-04 - val_loss: 0.0012\n",
      "Epoch 31/100\n",
      "14/14 [==============================] - 5s 360ms/step - loss: 7.0626e-04 - val_loss: 0.0019\n",
      "Epoch 32/100\n",
      "14/14 [==============================] - 5s 355ms/step - loss: 7.0565e-04 - val_loss: 0.0015\n",
      "Epoch 33/100\n",
      "14/14 [==============================] - 5s 362ms/step - loss: 6.5571e-04 - val_loss: 0.0017\n",
      "Epoch 34/100\n",
      "14/14 [==============================] - 5s 357ms/step - loss: 6.4979e-04 - val_loss: 0.0010\n",
      "Epoch 35/100\n",
      "14/14 [==============================] - 5s 353ms/step - loss: 6.4325e-04 - val_loss: 0.0012\n",
      "Epoch 36/100\n",
      "14/14 [==============================] - 5s 350ms/step - loss: 6.4905e-04 - val_loss: 0.0010\n",
      "Epoch 37/100\n",
      "14/14 [==============================] - 5s 350ms/step - loss: 7.4633e-04 - val_loss: 9.9120e-04\n",
      "Epoch 38/100\n",
      "14/14 [==============================] - 5s 352ms/step - loss: 6.6796e-04 - val_loss: 0.0010\n",
      "Epoch 39/100\n",
      "14/14 [==============================] - 4s 323ms/step - loss: 6.2668e-04 - val_loss: 0.0017\n",
      "Epoch 40/100\n",
      "14/14 [==============================] - 5s 357ms/step - loss: 6.5472e-04 - val_loss: 9.2983e-04\n",
      "Epoch 41/100\n",
      "14/14 [==============================] - 5s 360ms/step - loss: 6.4111e-04 - val_loss: 0.0010\n",
      "Epoch 42/100\n",
      "14/14 [==============================] - 5s 352ms/step - loss: 5.8907e-04 - val_loss: 0.0010\n",
      "Epoch 43/100\n",
      "14/14 [==============================] - 5s 355ms/step - loss: 6.1045e-04 - val_loss: 0.0010\n",
      "Epoch 44/100\n",
      "14/14 [==============================] - 5s 352ms/step - loss: 6.0948e-04 - val_loss: 0.0016\n",
      "Epoch 45/100\n",
      "14/14 [==============================] - 5s 356ms/step - loss: 7.0180e-04 - val_loss: 0.0031\n",
      "Epoch 46/100\n",
      "14/14 [==============================] - 5s 359ms/step - loss: 6.6052e-04 - val_loss: 0.0011\n",
      "Epoch 47/100\n",
      "14/14 [==============================] - 5s 361ms/step - loss: 5.3960e-04 - val_loss: 0.0010\n",
      "Epoch 48/100\n",
      "14/14 [==============================] - 5s 349ms/step - loss: 5.2982e-04 - val_loss: 9.3263e-04\n",
      "Epoch 49/100\n",
      "14/14 [==============================] - 5s 357ms/step - loss: 5.2846e-04 - val_loss: 0.0010\n",
      "Epoch 50/100\n",
      "14/14 [==============================] - 5s 345ms/step - loss: 5.1786e-04 - val_loss: 8.1347e-04\n",
      "Epoch 51/100\n",
      "14/14 [==============================] - 5s 356ms/step - loss: 5.5794e-04 - val_loss: 8.3361e-04\n",
      "Epoch 52/100\n",
      "14/14 [==============================] - 5s 355ms/step - loss: 6.2005e-04 - val_loss: 8.1804e-04\n",
      "Epoch 53/100\n",
      "14/14 [==============================] - 5s 343ms/step - loss: 5.1173e-04 - val_loss: 7.8887e-04\n",
      "Epoch 54/100\n",
      "14/14 [==============================] - 5s 342ms/step - loss: 5.2424e-04 - val_loss: 8.1310e-04\n",
      "Epoch 55/100\n",
      "14/14 [==============================] - 5s 332ms/step - loss: 4.8447e-04 - val_loss: 7.5946e-04\n",
      "Epoch 56/100\n",
      "14/14 [==============================] - 4s 316ms/step - loss: 5.2646e-04 - val_loss: 7.9688e-04\n",
      "Epoch 57/100\n",
      "14/14 [==============================] - 4s 290ms/step - loss: 5.3575e-04 - val_loss: 9.7045e-04\n",
      "Epoch 58/100\n",
      "14/14 [==============================] - 4s 297ms/step - loss: 4.5513e-04 - val_loss: 0.0010\n",
      "Epoch 59/100\n",
      "14/14 [==============================] - 5s 340ms/step - loss: 4.4070e-04 - val_loss: 0.0014\n",
      "Epoch 60/100\n",
      "14/14 [==============================] - 5s 348ms/step - loss: 4.6292e-04 - val_loss: 0.0011\n",
      "Epoch 61/100\n",
      "14/14 [==============================] - 5s 344ms/step - loss: 4.6652e-04 - val_loss: 0.0011\n",
      "Epoch 62/100\n",
      "14/14 [==============================] - 5s 344ms/step - loss: 4.6353e-04 - val_loss: 9.4290e-04\n",
      "Epoch 63/100\n",
      "14/14 [==============================] - 5s 340ms/step - loss: 4.2561e-04 - val_loss: 0.0013\n",
      "Epoch 64/100\n",
      "14/14 [==============================] - 5s 342ms/step - loss: 4.2169e-04 - val_loss: 9.7382e-04\n",
      "Epoch 65/100\n",
      "14/14 [==============================] - 5s 341ms/step - loss: 4.7886e-04 - val_loss: 6.9195e-04\n",
      "Epoch 66/100\n",
      "14/14 [==============================] - 5s 344ms/step - loss: 4.0631e-04 - val_loss: 6.9355e-04\n",
      "Epoch 67/100\n",
      "14/14 [==============================] - 5s 343ms/step - loss: 4.1407e-04 - val_loss: 6.3883e-04\n",
      "Epoch 68/100\n",
      "14/14 [==============================] - 5s 326ms/step - loss: 4.7285e-04 - val_loss: 6.9923e-04\n",
      "Epoch 69/100\n",
      "14/14 [==============================] - 4s 316ms/step - loss: 5.6707e-04 - val_loss: 6.2637e-04\n",
      "Epoch 70/100\n",
      "14/14 [==============================] - 4s 314ms/step - loss: 3.9898e-04 - val_loss: 7.6988e-04\n",
      "Epoch 71/100\n",
      "14/14 [==============================] - 5s 343ms/step - loss: 4.0272e-04 - val_loss: 9.2251e-04\n",
      "Epoch 72/100\n",
      "14/14 [==============================] - 5s 338ms/step - loss: 4.2158e-04 - val_loss: 8.5740e-04\n",
      "Epoch 73/100\n",
      "14/14 [==============================] - 5s 338ms/step - loss: 3.9231e-04 - val_loss: 9.7060e-04\n",
      "Epoch 74/100\n",
      "14/14 [==============================] - 5s 339ms/step - loss: 3.7989e-04 - val_loss: 9.6861e-04\n",
      "Epoch 75/100\n",
      "14/14 [==============================] - 5s 343ms/step - loss: 3.6983e-04 - val_loss: 5.9015e-04\n",
      "Epoch 76/100\n",
      "14/14 [==============================] - 5s 341ms/step - loss: 3.8065e-04 - val_loss: 7.5736e-04\n",
      "Epoch 77/100\n",
      "14/14 [==============================] - 5s 340ms/step - loss: 3.6354e-04 - val_loss: 6.1574e-04\n",
      "Epoch 78/100\n",
      "14/14 [==============================] - 5s 332ms/step - loss: 4.2592e-04 - val_loss: 5.7289e-04\n",
      "Epoch 79/100\n",
      "14/14 [==============================] - 5s 339ms/step - loss: 3.5673e-04 - val_loss: 5.6520e-04\n",
      "Epoch 80/100\n",
      "14/14 [==============================] - 5s 338ms/step - loss: 3.5184e-04 - val_loss: 6.3872e-04\n",
      "Epoch 81/100\n",
      "14/14 [==============================] - 5s 335ms/step - loss: 3.5793e-04 - val_loss: 5.6447e-04\n",
      "Epoch 82/100\n",
      "14/14 [==============================] - 5s 333ms/step - loss: 3.5153e-04 - val_loss: 0.0010\n",
      "Epoch 83/100\n",
      "14/14 [==============================] - 5s 328ms/step - loss: 3.6016e-04 - val_loss: 6.5160e-04\n",
      "Epoch 84/100\n",
      "14/14 [==============================] - 5s 330ms/step - loss: 3.3367e-04 - val_loss: 5.4614e-04\n",
      "Epoch 85/100\n",
      "14/14 [==============================] - 5s 344ms/step - loss: 4.0531e-04 - val_loss: 7.6135e-04\n",
      "Epoch 86/100\n",
      "14/14 [==============================] - 5s 339ms/step - loss: 3.6961e-04 - val_loss: 9.9341e-04\n",
      "Epoch 87/100\n",
      "14/14 [==============================] - 5s 347ms/step - loss: 3.7055e-04 - val_loss: 5.5801e-04\n",
      "Epoch 88/100\n",
      "14/14 [==============================] - 5s 334ms/step - loss: 3.3307e-04 - val_loss: 5.9373e-04\n",
      "Epoch 89/100\n",
      "14/14 [==============================] - 5s 336ms/step - loss: 3.3348e-04 - val_loss: 5.3491e-04\n",
      "Epoch 90/100\n",
      "14/14 [==============================] - 5s 340ms/step - loss: 3.7510e-04 - val_loss: 5.4421e-04\n",
      "Epoch 91/100\n",
      "14/14 [==============================] - 5s 328ms/step - loss: 3.2845e-04 - val_loss: 5.9790e-04\n",
      "Epoch 92/100\n",
      "14/14 [==============================] - 5s 344ms/step - loss: 3.3730e-04 - val_loss: 6.1196e-04\n",
      "Epoch 93/100\n",
      "14/14 [==============================] - 5s 339ms/step - loss: 3.3759e-04 - val_loss: 5.2180e-04\n",
      "Epoch 94/100\n",
      "14/14 [==============================] - 5s 347ms/step - loss: 3.3640e-04 - val_loss: 5.2540e-04\n",
      "Epoch 95/100\n",
      "14/14 [==============================] - 5s 346ms/step - loss: 3.4395e-04 - val_loss: 5.5697e-04\n",
      "Epoch 96/100\n",
      "14/14 [==============================] - 5s 338ms/step - loss: 3.1881e-04 - val_loss: 6.2548e-04\n",
      "Epoch 97/100\n",
      "14/14 [==============================] - 5s 337ms/step - loss: 3.1969e-04 - val_loss: 6.9152e-04\n",
      "Epoch 98/100\n",
      "14/14 [==============================] - 5s 346ms/step - loss: 3.4769e-04 - val_loss: 9.7035e-04\n",
      "Epoch 99/100\n",
      "14/14 [==============================] - 5s 336ms/step - loss: 3.4403e-04 - val_loss: 5.2189e-04\n",
      "Epoch 100/100\n",
      "14/14 [==============================] - 4s 321ms/step - loss: 3.2641e-04 - val_loss: 5.6612e-04\n"
     ]
    },
    {
     "data": {
      "text/plain": [
       "<keras.callbacks.History at 0x16cdc6a3ee0>"
      ]
     },
     "execution_count": 18,
     "metadata": {},
     "output_type": "execute_result"
    }
   ],
   "source": [
    "model.fit(X_train,y_train,validation_data=(X_test,ytest),epochs=100,batch_size=64,verbose=1)"
   ]
  },
  {
   "cell_type": "code",
   "execution_count": 19,
   "id": "c8441bb6",
   "metadata": {},
   "outputs": [],
   "source": [
    "import tensorflow as tf"
   ]
  },
  {
   "cell_type": "code",
   "execution_count": 20,
   "id": "58a40191",
   "metadata": {},
   "outputs": [
    {
     "name": "stdout",
     "output_type": "stream",
     "text": [
      "28/28 [==============================] - 5s 65ms/step\n",
      "14/14 [==============================] - 1s 67ms/step\n"
     ]
    }
   ],
   "source": [
    "### Lets Do the prediction and check performance metrics\n",
    "train_predict=model.predict(X_train)\n",
    "test_predict=model.predict(X_test)"
   ]
  },
  {
   "cell_type": "code",
   "execution_count": 21,
   "id": "25c8a072",
   "metadata": {},
   "outputs": [],
   "source": [
    "##Transformback to original form\n",
    "train_predict=scaler.inverse_transform(train_predict)\n",
    "test_predict=scaler.inverse_transform(test_predict)"
   ]
  },
  {
   "cell_type": "code",
   "execution_count": null,
   "id": "b4bf8b0d",
   "metadata": {},
   "outputs": [],
   "source": []
  },
  {
   "cell_type": "code",
   "execution_count": 22,
   "id": "7324b275",
   "metadata": {},
   "outputs": [
    {
     "data": {
      "image/png": "[encoded data removed]",
      "text/plain": [
       "<Figure size 432x288 with 1 Axes>"
      ]
     },
     "metadata": {
      "needs_background": "light"
     },
     "output_type": "display_data"
    }
   ],
   "source": [
    "### Plotting \n",
    "# shift train predictions for plotting\n",
    "look_back=100\n",
    "trainPredictPlot = numpy.empty_like(df1)\n",
    "trainPredictPlot[:, :] = np.nan\n",
    "trainPredictPlot[look_back:len(train_predict)+look_back, :] = train_predict\n",
    "# shift test predictions for plotting\n",
    "testPredictPlot = numpy.empty_like(df1)\n",
    "testPredictPlot[:, :] = numpy.nan\n",
    "testPredictPlot[len(train_predict)+(look_back*2)+1:len(df1)-1, :] = test_predict\n",
    "# plot baseline and predictions\n",
    "plt.plot(scaler.inverse_transform(df1))\n",
    "plt.plot(trainPredictPlot)\n",
    "plt.plot(testPredictPlot)\n",
    "plt.show()"
   ]
  },
  {
   "cell_type": "code",
   "execution_count": 23,
   "id": "784a7bea",
   "metadata": {},
   "outputs": [
    {
     "data": {
      "text/plain": [
       "526"
      ]
     },
     "execution_count": 23,
     "metadata": {},
     "output_type": "execute_result"
    }
   ],
   "source": [
    "len(test_data)"
   ]
  },
  {
   "cell_type": "code",
   "execution_count": 24,
   "id": "3fc9a3d1",
   "metadata": {},
   "outputs": [
    {
     "data": {
      "text/plain": [
       "(1, 100)"
      ]
     },
     "execution_count": 24,
     "metadata": {},
     "output_type": "execute_result"
    }
   ],
   "source": [
    "x_input=test_data[426:].reshape(1,-1)\n",
    "x_input.shape"
   ]
  },
  {
   "cell_type": "code",
   "execution_count": 25,
   "id": "c439511f",
   "metadata": {},
   "outputs": [],
   "source": [
    "temp_input=list(x_input)\n",
    "temp_input=temp_input[0].tolist()"
   ]
  },
  {
   "cell_type": "code",
   "execution_count": 26,
   "id": "396d37e2",
   "metadata": {},
   "outputs": [
    {
     "name": "stdout",
     "output_type": "stream",
     "text": [
      "[18.637661]\n",
      "[[18.63766098022461]]\n"
     ]
    }
   ],
   "source": [
    "# demonstrate prediction for next 1 days\n",
    "from numpy import array\n",
    "\n",
    "lst_output=[]\n",
    "n_steps=100\n",
    "i=0\n",
    "while(i<1):\n",
    "        x_input = x_input.reshape((1, n_steps,1))\n",
    "        yhat = model.predict(x_input, verbose=0)\n",
    "        yhat = scaler.inverse_transform(yhat)\n",
    "        print(yhat[0])\n",
    "        temp_input.extend(yhat[0].tolist())\n",
    "        #print(len(temp_input))\n",
    "        lst_output.extend(yhat.tolist())\n",
    "        i=i+1\n",
    "    \n",
    "\n",
    "print(lst_output)\n"
   ]
  },
  {
   "cell_type": "code",
   "execution_count": 27,
   "id": "37f97845",
   "metadata": {},
   "outputs": [
    {
     "data": {
      "text/plain": [
       "13.573913006237817"
      ]
     },
     "execution_count": 27,
     "metadata": {},
     "output_type": "execute_result"
    }
   ],
   "source": [
    "### Calculate RMSE performance metrics\n",
    "import math\n",
    "from sklearn.metrics import mean_squared_error\n",
    "math.sqrt(mean_squared_error(y_train,train_predict))"
   ]
  },
  {
   "cell_type": "code",
   "execution_count": 28,
   "id": "0a18d35e",
   "metadata": {},
   "outputs": [
    {
     "data": {
      "text/plain": [
       "17.499356306038475"
      ]
     },
     "execution_count": 28,
     "metadata": {},
     "output_type": "execute_result"
    }
   ],
   "source": [
    "### Test Data RMSE\n",
    "math.sqrt(mean_squared_error(ytest,test_predict))"
   ]
  },
  {
   "cell_type": "code",
   "execution_count": null,
   "id": "8c23bc14",
   "metadata": {},
   "outputs": [],
   "source": []
  },
  {
   "cell_type": "code",
   "execution_count": null,
   "id": "4eb35a20",
   "metadata": {},
   "outputs": [],
   "source": []
  },
  {
   "cell_type": "code",
   "execution_count": null,
   "id": "a7e3d909",
   "metadata": {},
   "outputs": [],
   "source": []
  },
  {
   "cell_type": "code",
   "execution_count": null,
   "id": "877ba7a6",
   "metadata": {},
   "outputs": [],
   "source": []
  },
  {
   "cell_type": "code",
   "execution_count": null,
   "id": "6766d05f",
   "metadata": {},
   "outputs": [],
   "source": []
  }
 ],
 "metadata": {
  "kernelspec": {
   "display_name": "Python 3 (ipykernel)",
   "language": "python",
   "name": "python3"
  },
  "language_info": {
   "codemirror_mode": {
    "name": "ipython",
    "version": 3
   },
   "file_extension": ".py",
   "mimetype": "text/x-python",
   "name": "python",
   "nbconvert_exporter": "python",
   "pygments_lexer": "ipython3",
   "version": "3.9.12"
  }
 },
 "nbformat": 4,
 "nbformat_minor": 5
}
